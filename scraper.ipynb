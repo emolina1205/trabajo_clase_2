{
 "cells": [
  {
   "cell_type": "code",
   "execution_count": null,
   "metadata": {},
   "outputs": [
    {
     "name": "stdout",
     "output_type": "stream",
     "text": [
      "Requirement already satisfied: requests in /home/codespace/.local/lib/python3.12/site-packages (2.32.3)\n",
      "Requirement already satisfied: charset-normalizer<4,>=2 in /home/codespace/.local/lib/python3.12/site-packages (from requests) (3.4.0)\n",
      "Requirement already satisfied: idna<4,>=2.5 in /home/codespace/.local/lib/python3.12/site-packages (from requests) (3.10)\n",
      "Requirement already satisfied: urllib3<3,>=1.21.1 in /home/codespace/.local/lib/python3.12/site-packages (from requests) (2.2.3)\n",
      "Requirement already satisfied: certifi>=2017.4.17 in /home/codespace/.local/lib/python3.12/site-packages (from requests) (2024.8.30)\n",
      "Requirement already satisfied: pip in /home/codespace/.python/current/lib/python3.12/site-packages (25.0.1)\n"
     ]
    }
   ],
   "source": [
    "!python3 -m pip install --upgrade pip"
   ]
  },
  {
   "cell_type": "code",
   "execution_count": 3,
   "metadata": {},
   "outputs": [
    {
     "name": "stdout",
     "output_type": "stream",
     "text": [
      "Defaulting to user installation because normal site-packages is not writeable\n",
      "Requirement already satisfied: beautifulsoup4 in /home/vscode/.local/lib/python3.11/site-packages (4.13.3)\n",
      "Requirement already satisfied: soupsieve>1.2 in /home/vscode/.local/lib/python3.11/site-packages (from beautifulsoup4) (2.6)\n",
      "Requirement already satisfied: typing-extensions>=4.0.0 in /home/vscode/.local/lib/python3.11/site-packages (from beautifulsoup4) (4.12.2)\n"
     ]
    }
   ],
   "source": [
    "!pip install beautifulsoup4\n"
   ]
  },
  {
   "cell_type": "code",
   "execution_count": 4,
   "metadata": {},
   "outputs": [],
   "source": [
    "#import required libraries\n",
    "from bs4 import BeautifulSoup\n",
    "from datetime import datetime\n",
    "import requests\n",
    "import time"
   ]
  },
  {
   "cell_type": "code",
   "execution_count": null,
   "metadata": {},
   "outputs": [
    {
     "name": "stdout",
     "output_type": "stream",
     "text": [
      "Valores nulos por columna:\n",
      " Event ID          0\n",
      "Timestamp         0\n",
      "Source IP         0\n",
      "Destination IP    0\n",
      "Attack Type       0\n",
      "dtype: int64\n",
      "\n",
      "Tipos de datos por columna:\n",
      " Event ID          object\n",
      "Timestamp         object\n",
      "Source IP         object\n",
      "Destination IP    object\n",
      "Attack Type       object\n",
      "dtype: object\n"
     ]
    }
   ],
   "source": [
    "import pandas as pd\n",
    " \n",
    "# Cargar el conjunto de datos desde un archivo CSV\n",
    "df = pd.read_csv('ai_ml_cybersecurity_dataset.csv')\n",
    " \n",
    "# Seleccionar 5 columnas de interés\n",
    "columnas_seleccionadas = ['Event ID','Timestamp','Source IP','Destination IP','Attack Type']\n",
    "df_seleccionado = df[columnas_seleccionadas].head(10)  # Seleccionar las primeras 10 filas\n",
    " \n",
    "# Verificar si hay valores nulos\n",
    "valores_nulos = df_seleccionado.isnull().sum()\n",
    " \n",
    "# Verificar la consistencia de tipos de datos\n",
    "tipos_datos = df_seleccionado.dtypes\n",
    " \n",
    "print(\"Valores nulos por columna:\\n\", valores_nulos)\n",
    "print(\"\\nTipos de datos por columna:\\n\", tipos_datos)"
   ]
  },
  {
   "cell_type": "code",
   "execution_count": 26,
   "metadata": {},
   "outputs": [
    {
     "name": "stdout",
     "output_type": "stream",
     "text": [
      "Valores nulos por columna:\n",
      " Event ID          0\n",
      "Timestamp         0\n",
      "Source IP         0\n",
      "Destination IP    0\n",
      "Attack Type       0\n",
      "dtype: int64\n",
      "\n",
      "Tipos de datos por columna:\n",
      " Event ID          object\n",
      "Timestamp         object\n",
      "Source IP         object\n",
      "Destination IP    object\n",
      "Attack Type       object\n",
      "dtype: object\n"
     ]
    }
   ],
   "source": [
    "import pandas as pd\n",
    " \n",
    "# Cargar el conjunto de datos desde un archivo CSV\n",
    "df = pd.read_csv('ai_ml_cybersecurity_dataset.csv')\n",
    " \n",
    "# Seleccionar 5 columnas de interés\n",
    "columnas_seleccionadas = ['Event ID','Timestamp', 'Source IP',  'Destination IP', 'Attack Type']\n",
    "df_seleccionado = df[columnas_seleccionadas].astype(str).head(10)  # Seleccionar las primeras 10 filas\n",
    "\n",
    " \n",
    "# Verificar si hay valores nulos\n",
    "valores_nulos = df_seleccionado.isnull().sum()\n",
    " \n",
    "# Verificar la consistencia de tipos de datos\n",
    "tipos_datos = df_seleccionado.dtypes\n",
    " \n",
    "print(\"Valores nulos por columna:\\n\", valores_nulos)\n",
    "print(\"\\nTipos de datos por columna:\\n\", tipos_datos)"
   ]
  },
  {
   "cell_type": "code",
   "execution_count": 28,
   "metadata": {},
   "outputs": [
    {
     "data": {
      "text/html": [
       "<div>\n",
       "<style scoped>\n",
       "    .dataframe tbody tr th:only-of-type {\n",
       "        vertical-align: middle;\n",
       "    }\n",
       "\n",
       "    .dataframe tbody tr th {\n",
       "        vertical-align: top;\n",
       "    }\n",
       "\n",
       "    .dataframe thead th {\n",
       "        text-align: right;\n",
       "    }\n",
       "</style>\n",
       "<table border=\"1\" class=\"dataframe\">\n",
       "  <thead>\n",
       "    <tr style=\"text-align: right;\">\n",
       "      <th></th>\n",
       "      <th>Event ID</th>\n",
       "      <th>Timestamp</th>\n",
       "      <th>Source IP</th>\n",
       "      <th>Destination IP</th>\n",
       "      <th>Attack Type</th>\n",
       "    </tr>\n",
       "  </thead>\n",
       "  <tbody>\n",
       "    <tr>\n",
       "      <th>0</th>\n",
       "      <td>2019969e-ecfa-41c4-b681-9b684bc3b3bf</td>\n",
       "      <td>2020-02-07 23:46:57</td>\n",
       "      <td>219.80.193.15</td>\n",
       "      <td>44.155.75.24</td>\n",
       "      <td>Ransomware</td>\n",
       "    </tr>\n",
       "    <tr>\n",
       "      <th>1</th>\n",
       "      <td>1668e954-781f-4731-94dc-24218b983ba1</td>\n",
       "      <td>2021-05-25 19:03:44</td>\n",
       "      <td>110.155.68.245</td>\n",
       "      <td>178.123.150.38</td>\n",
       "      <td>Malware</td>\n",
       "    </tr>\n",
       "    <tr>\n",
       "      <th>2</th>\n",
       "      <td>0ef24a20-1d25-41fa-81b8-e19fb63e9e4c</td>\n",
       "      <td>2022-01-04 09:08:07</td>\n",
       "      <td>171.153.115.83</td>\n",
       "      <td>76.187.142.133</td>\n",
       "      <td>Ransomware</td>\n",
       "    </tr>\n",
       "    <tr>\n",
       "      <th>3</th>\n",
       "      <td>073b6225-0998-488c-aa1c-23e49814b6ff</td>\n",
       "      <td>2022-10-12 19:48:43</td>\n",
       "      <td>29.49.228.195</td>\n",
       "      <td>89.39.7.177</td>\n",
       "      <td>DDoS</td>\n",
       "    </tr>\n",
       "    <tr>\n",
       "      <th>4</th>\n",
       "      <td>783fd153-6b88-44c1-8db5-d882300088cc</td>\n",
       "      <td>2021-11-24 02:04:33</td>\n",
       "      <td>120.43.64.52</td>\n",
       "      <td>113.82.34.164</td>\n",
       "      <td>Malware</td>\n",
       "    </tr>\n",
       "    <tr>\n",
       "      <th>5</th>\n",
       "      <td>e3f69b23-e5d0-4a39-b894-ab87413a93b6</td>\n",
       "      <td>2022-06-11 02:11:58</td>\n",
       "      <td>114.170.234.8</td>\n",
       "      <td>36.246.60.2</td>\n",
       "      <td>Insider Threat</td>\n",
       "    </tr>\n",
       "    <tr>\n",
       "      <th>6</th>\n",
       "      <td>8b292334-60f6-4693-b563-39f399a4fae9</td>\n",
       "      <td>2020-08-24 18:30:46</td>\n",
       "      <td>212.62.126.191</td>\n",
       "      <td>31.113.210.1</td>\n",
       "      <td>DDoS</td>\n",
       "    </tr>\n",
       "    <tr>\n",
       "      <th>7</th>\n",
       "      <td>36c0362b-2821-4e2b-bc6d-58bc3dcd5851</td>\n",
       "      <td>2022-03-31 20:12:23</td>\n",
       "      <td>24.171.248.77</td>\n",
       "      <td>9.122.217.42</td>\n",
       "      <td>Insider Threat</td>\n",
       "    </tr>\n",
       "    <tr>\n",
       "      <th>8</th>\n",
       "      <td>f2b68ec9-37f1-4c38-a9ba-37a630694893</td>\n",
       "      <td>2021-08-05 14:26:13</td>\n",
       "      <td>78.151.115.57</td>\n",
       "      <td>104.124.29.74</td>\n",
       "      <td>Malware</td>\n",
       "    </tr>\n",
       "    <tr>\n",
       "      <th>9</th>\n",
       "      <td>9a0454f5-b7ad-4ed7-8001-6fd63a1d4709</td>\n",
       "      <td>2022-01-30 11:55:17</td>\n",
       "      <td>118.187.114.245</td>\n",
       "      <td>193.98.57.7</td>\n",
       "      <td>Ransomware</td>\n",
       "    </tr>\n",
       "  </tbody>\n",
       "</table>\n",
       "</div>"
      ],
      "text/plain": [
       "                               Event ID            Timestamp        Source IP  \\\n",
       "0  2019969e-ecfa-41c4-b681-9b684bc3b3bf  2020-02-07 23:46:57    219.80.193.15   \n",
       "1  1668e954-781f-4731-94dc-24218b983ba1  2021-05-25 19:03:44   110.155.68.245   \n",
       "2  0ef24a20-1d25-41fa-81b8-e19fb63e9e4c  2022-01-04 09:08:07   171.153.115.83   \n",
       "3  073b6225-0998-488c-aa1c-23e49814b6ff  2022-10-12 19:48:43    29.49.228.195   \n",
       "4  783fd153-6b88-44c1-8db5-d882300088cc  2021-11-24 02:04:33     120.43.64.52   \n",
       "5  e3f69b23-e5d0-4a39-b894-ab87413a93b6  2022-06-11 02:11:58    114.170.234.8   \n",
       "6  8b292334-60f6-4693-b563-39f399a4fae9  2020-08-24 18:30:46   212.62.126.191   \n",
       "7  36c0362b-2821-4e2b-bc6d-58bc3dcd5851  2022-03-31 20:12:23    24.171.248.77   \n",
       "8  f2b68ec9-37f1-4c38-a9ba-37a630694893  2021-08-05 14:26:13    78.151.115.57   \n",
       "9  9a0454f5-b7ad-4ed7-8001-6fd63a1d4709  2022-01-30 11:55:17  118.187.114.245   \n",
       "\n",
       "   Destination IP     Attack Type  \n",
       "0    44.155.75.24      Ransomware  \n",
       "1  178.123.150.38         Malware  \n",
       "2  76.187.142.133      Ransomware  \n",
       "3     89.39.7.177            DDoS  \n",
       "4   113.82.34.164         Malware  \n",
       "5     36.246.60.2  Insider Threat  \n",
       "6    31.113.210.1            DDoS  \n",
       "7    9.122.217.42  Insider Threat  \n",
       "8   104.124.29.74         Malware  \n",
       "9     193.98.57.7      Ransomware  "
      ]
     },
     "metadata": {},
     "output_type": "display_data"
    },
    {
     "name": "stdout",
     "output_type": "stream",
     "text": [
      "\n",
      "Valores nulos por columna:\n",
      "Event ID          0\n",
      "Timestamp         0\n",
      "Source IP         0\n",
      "Destination IP    0\n",
      "Attack Type       0\n",
      "dtype: int64\n",
      "\n",
      "Información del DataFrame:\n",
      "<class 'pandas.core.frame.DataFrame'>\n",
      "RangeIndex: 10 entries, 0 to 9\n",
      "Data columns (total 5 columns):\n",
      " #   Column          Non-Null Count  Dtype \n",
      "---  ------          --------------  ----- \n",
      " 0   Event ID        10 non-null     object\n",
      " 1   Timestamp       10 non-null     object\n",
      " 2   Source IP       10 non-null     object\n",
      " 3   Destination IP  10 non-null     object\n",
      " 4   Attack Type     10 non-null     object\n",
      "dtypes: object(5)\n",
      "memory usage: 532.0+ bytes\n",
      "\n",
      "Tipos de valores dentro de cada columna:\n",
      "Event ID: [<class 'str'>]\n",
      "Timestamp: [<class 'str'>]\n",
      "Source IP: [<class 'str'>]\n",
      "Destination IP: [<class 'str'>]\n",
      "Attack Type: [<class 'str'>]\n"
     ]
    }
   ],
   "source": [
    "import pandas as pd\n",
    " \n",
    "# Cargar el conjunto de datos desde un archivo CSV\n",
    "df = pd.read_csv('ai_ml_cybersecurity_dataset.csv')\n",
    " \n",
    "# Asegurar que el índice es limpio\n",
    "df = df.reset_index(drop=True)\n",
    " \n",
    "# Seleccionar 5 columnas de interés\n",
    "columnas_seleccionadas = ['Event ID', 'Timestamp', 'Source IP', 'Destination IP', 'Attack Type']\n",
    "df_seleccionado = df[columnas_seleccionadas].head(10)  # Seleccionar las primeras 10 filas\n",
    " \n",
    "# Convertir todas las columnas a tipo 'object' (string)\n",
    "df_seleccionado = df_seleccionado.astype(str)\n",
    " \n",
    "# Mostrar las primeras filas del DataFrame\n",
    "from IPython.display import display  # Para mejorar la visualización en Jupyter\n",
    "display(df_seleccionado)\n",
    " \n",
    "# Verificar valores nulos\n",
    "print(\"\\nValores nulos por columna:\")\n",
    "print(df_seleccionado.isnull().sum())\n",
    " \n",
    "# Verificar tipos de datos\n",
    "print(\"\\nInformación del DataFrame:\")\n",
    "df_seleccionado.info()\n",
    " \n",
    "# Verificar que todos los valores son realmente strings\n",
    "print(\"\\nTipos de valores dentro de cada columna:\")\n",
    "for col in df_seleccionado.columns:\n",
    "    print(f\"{col}: {df_seleccionado[col].apply(type).unique()}\")"
   ]
  },
  {
   "cell_type": "code",
   "execution_count": 3,
   "metadata": {},
   "outputs": [
    {
     "name": "stdout",
     "output_type": "stream",
     "text": [
      "Defaulting to user installation because normal site-packages is not writeable\n",
      "Requirement already satisfied: pip in /home/vscode/.local/lib/python3.11/site-packages (25.0.1)\n"
     ]
    }
   ],
   "source": [
    "!python3 -m pip install --upgrade pip\n"
   ]
  },
  {
   "cell_type": "code",
   "execution_count": 13,
   "metadata": {},
   "outputs": [
    {
     "name": "stdout",
     "output_type": "stream",
     "text": [
      "Error en la solicitud: 503 Server Error: Service Unavailable for url: https://services.nvd.nist.gov/rest/json/cves/2.0?apiKey=8601c488-b880-4eb0-83a0-15717bedbf70&resultsPerPage=10&startIndex=0\n",
      "Reintentando...\n"
     ]
    },
    {
     "name": "stdout",
     "output_type": "stream",
     "text": [
      "Error en la solicitud: 503 Server Error: Service Unavailable for url: https://services.nvd.nist.gov/rest/json/cves/2.0?apiKey=8601c488-b880-4eb0-83a0-15717bedbf70&resultsPerPage=10&startIndex=0\n",
      "Reintentando...\n",
      "Error en la solicitud: 503 Server Error: Service Unavailable for url: https://services.nvd.nist.gov/rest/json/cves/2.0?apiKey=8601c488-b880-4eb0-83a0-15717bedbf70&resultsPerPage=10&startIndex=0\n",
      "Reintentando...\n",
      "No se pudo obtener datos después de 3 intentos.\n"
     ]
    }
   ],
   "source": [
    "import requests\n",
    "import pandas as pd\n",
    "from time import sleep\n",
    " \n",
    "# Tu API Key de NIST\n",
    "API_KEY = \"8601c488-b880-4eb0-83a0-15717bedbf70\"\n",
    " \n",
    "# Endpoint para obtener una lista de CVEs\n",
    "url = \"https://services.nvd.nist.gov/rest/json/cves/2.0\"\n",
    " \n",
    "# Parámetros de la consulta\n",
    "params = {\n",
    "    \"apiKey\": API_KEY,\n",
    "    \"resultsPerPage\": 10,  # Número de resultados que queremos\n",
    "    \"startIndex\": 0,  # Empezar desde el primer resultado\n",
    "}\n",
    " \n",
    "def get_cve_data():\n",
    "    try:\n",
    "        # Realizamos la solicitud GET a la API\n",
    "        response = requests.get(url, params=params, timeout=10)  # Añadí timeout para evitar largos bloqueos\n",
    "        response.raise_for_status()  # Lanza una excepción para códigos de error HTTP\n",
    "        return response.json()  # Intentamos obtener datos JSON\n",
    "    except requests.exceptions.RequestException as e:\n",
    "        print(f\"Error en la solicitud: {e}\")\n",
    "        return None\n",
    " \n",
    "# Intentar hasta 3 veces\n",
    "for attempt in range(3):\n",
    "    data = get_cve_data()\n",
    "    if data:\n",
    "        break\n",
    "    print(\"Reintentando...\")\n",
    "    sleep(5)  # Esperar 5 segundos antes de reintentar\n",
    " \n",
    "# Si la conexión fue exitosa\n",
    "if data:\n",
    "    # Extraer los CVE_Items de la respuesta\n",
    "    cve_items = data.get('result', {}).get('CVE_Items', [])\n",
    " \n",
    "    # Extraer 5 columnas de interés\n",
    "    cve_list = []\n",
    "    for item in cve_items:\n",
    "        cve_data = item.get('cve', {})\n",
    "        cve_dict = {\n",
    "            \"CVE_ID\": cve_data.get('CVE_data_meta', {}).get('ID'),\n",
    "            \"Description\": cve_data.get('description', {}).get('description_data', [{}])[0].get('value', 'No description'),\n",
    "            \"Published\": cve_data.get('publishedDate'),\n",
    "            \"Last Modified\": cve_data.get('lastModifiedDate'),\n",
    "            \"CVSS Score\": item.get('impact', {}).get('baseMetricV3', {}).get('cvssV3', {}).get('baseScore', 'No score')\n",
    "        }\n",
    "        cve_list.append(cve_dict)\n",
    " \n",
    "    # Convertir a DataFrame para visualizar mejor los datos\n",
    "    cve_df = pd.DataFrame(cve_list)\n",
    " \n",
    "    # Mostrar las primeras 10 filas\n",
    "    print(\"\\nPrimeras 10 filas:\")\n",
    "    print(cve_df.head(10))\n",
    "else:\n",
    "    print(\"No se pudo obtener datos después de 3 intentos.\")"
   ]
  }
 ],
 "metadata": {
  "kernelspec": {
   "display_name": "Python 3",
   "language": "python",
   "name": "python3"
  },
  "language_info": {
   "codemirror_mode": {
    "name": "ipython",
    "version": 3
   },
   "file_extension": ".py",
   "mimetype": "text/x-python",
   "name": "python",
   "nbconvert_exporter": "python",
   "pygments_lexer": "ipython3",
   "version": "3.11.11"
  }
 },
 "nbformat": 4,
 "nbformat_minor": 2
}
